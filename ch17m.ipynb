{
  "nbformat": 4,
  "nbformat_minor": 0,
  "metadata": {
    "colab": {
      "name": "ch17m.ipynb",
      "provenance": [],
      "collapsed_sections": []
    },
    "kernelspec": {
      "name": "python3",
      "display_name": "Python 3"
    },
    "language_info": {
      "name": "python"
    }
  },
  "cells": [
    {
      "cell_type": "markdown",
      "metadata": {
        "id": "rrqyryn-trsY"
      },
      "source": [
        "圖17-2"
      ]
    },
    {
      "cell_type": "code",
      "metadata": {
        "id": "Np34Wy9hfmsZ"
      },
      "source": [
        "!pip install geos  \n",
        "!pip install pyshp  \n",
        "#!pip install pyproj \n",
        "!pip install pyproj==1.9.6\n",
        "!apt-get install libgeos-c1v5 libgeos-dev \n",
        "!pip install https://github.com/matplotlib/basemap/archive/master.zip\n",
        "\n",
        "#!wget https://github.com/matplotlib/basemap/archive/v1.1.0.tar.gz \n",
        "#!tar -xf v1.1.0.tar.gz; cd ./basemap-1.1.0; python setup.py install \n",
        "#!rm -rf temp.zip; rm -rf basemap-1.1.0 \n",
        "#!rm -rf v1.1.0.tar.gz*"
      ],
      "execution_count": null,
      "outputs": []
    },
    {
      "cell_type": "markdown",
      "metadata": {
        "id": "2nBfP75YgWq6"
      },
      "source": [
        "圖17-3"
      ]
    },
    {
      "cell_type": "code",
      "metadata": {
        "colab": {
          "resources": {
            "http://localhost:8080/nbextensions/google.colab/files.js": {
              "data": "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",
              "ok": true,
              "headers": [
                [
                  "content-type",
                  "application/javascript"
                ]
              ],
              "status": 200,
              "status_text": ""
            }
          },
          "base_uri": "https://localhost:8080/",
          "height": 75
        },
        "id": "D8DKZMpUgoAs",
        "outputId": "9b015736-0c38-4cb7-bb29-68d15245f1c4"
      },
      "source": [
        "from google.colab import files\n",
        "uploaded = files.upload()"
      ],
      "execution_count": 9,
      "outputs": [
        {
          "output_type": "display_data",
          "data": {
            "text/html": [
              "\n",
              "     <input type=\"file\" id=\"files-07cc5791-3960-4664-9047-41590e81b411\" name=\"files[]\" multiple disabled\n",
              "        style=\"border:none\" />\n",
              "     <output id=\"result-07cc5791-3960-4664-9047-41590e81b411\">\n",
              "      Upload widget is only available when the cell has been executed in the\n",
              "      current browser session. Please rerun this cell to enable.\n",
              "      </output>\n",
              "      <script src=\"/nbextensions/google.colab/files.js\"></script> "
            ],
            "text/plain": [
              "<IPython.core.display.HTML object>"
            ]
          },
          "metadata": {
            "tags": []
          }
        },
        {
          "output_type": "stream",
          "text": [
            "Saving chap17a.csv to chap17a.csv\n"
          ],
          "name": "stdout"
        }
      ]
    },
    {
      "cell_type": "markdown",
      "metadata": {
        "id": "DTtbB1fYhVF9"
      },
      "source": [
        "圖17-4"
      ]
    },
    {
      "cell_type": "code",
      "metadata": {
        "id": "gX7lylEVhXfH"
      },
      "source": [
        "import matplotlib.pyplot as plt\n",
        "from mpl_toolkits.basemap import Basemap\n",
        "# 1. 設定basemap\n",
        "map = Basemap()\n",
        "# 2. 畫海岸線圖 \n",
        "map.drawcoastlines() \n",
        "# 3. 顯示圖片\n",
        "plt.show() "
      ],
      "execution_count": null,
      "outputs": []
    },
    {
      "cell_type": "markdown",
      "metadata": {
        "id": "spHfNeZ1jtnr"
      },
      "source": [
        "圖17-6"
      ]
    },
    {
      "cell_type": "code",
      "metadata": {
        "id": "GtQLPWxFjxZi"
      },
      "source": [
        "import matplotlib.pyplot as plt\n",
        "from mpl_toolkits.basemap import Basemap\n",
        "import warnings\n",
        "warnings.filterwarnings(\"ignore\")\n",
        "# 1. 設定basemap\n",
        "map = Basemap(projection='merc', resolution='h', \n",
        "   llcrnrlon=119.0,llcrnrlat=21.8,urcrnrlon=122.05,urcrnrlat=25.4)\n",
        "# 2. 畫海岸線圖     \n",
        "map.drawcoastlines(linewidth=1)\n",
        "map.drawmapboundary(fill_color='cyan')\n",
        "# 3. 顯示圖片\n",
        "plt.show() "
      ],
      "execution_count": null,
      "outputs": []
    },
    {
      "cell_type": "markdown",
      "metadata": {
        "id": "sG0huvFApuBg"
      },
      "source": [
        "圖17-8"
      ]
    },
    {
      "cell_type": "code",
      "metadata": {
        "id": "XjQI26fVpy3y"
      },
      "source": [
        "import matplotlib.pyplot as plt\n",
        "from mpl_toolkits.basemap import Basemap\n",
        "import numpy as np\n",
        "# 1. 設定basemap\n",
        "lllon,lllat,urlon,urlat=119.0,21.8,122.05,25.4\n",
        "map = Basemap(projection='cyl', resolution='h',\n",
        "   llcrnrlon=lllon,llcrnrlat=lllat,urcrnrlon=urlon, urcrnrlat=urlat)\n",
        "# 2. 畫海岸線圖     \n",
        "map.drawcoastlines(linewidth=1)\n",
        "map.drawmapboundary(fill_color='cyan')\n",
        "map.fillcontinents(color='yellow')\n",
        "# 3. 經緯度   \n",
        "#畫緯度線21.5(<21.8)和26(>25.4) #畫經度線119(<120)和123(>112.05)\n",
        "map.drawparallels(np.arange(21.5,26),labels=[1,1,0,0] ,fontsize=10)\n",
        "map.drawmeridians(np.arange(119,123),labels=[0,0,0,1], fontsize=10)\n",
        "# 4. 儲存顯示圖片\n",
        "plt.show() "
      ],
      "execution_count": null,
      "outputs": []
    },
    {
      "cell_type": "markdown",
      "metadata": {
        "id": "qLRJw68nqIqb"
      },
      "source": [
        "圖17-10\n",
        "https://data.gov.tw/dataset/7442"
      ]
    },
    {
      "cell_type": "markdown",
      "metadata": {
        "id": "zMzi9ZQqqp6_"
      },
      "source": [
        "圖17-11\n",
        "https://data.moi.gov.tw/MoiOD/System/DownloadFile.aspx?DATA=72874C55-884D-4CEA-B7D6-F60B0BE85AB0"
      ]
    },
    {
      "cell_type": "code",
      "metadata": {
        "id": "ggO_uP6jrW5o"
      },
      "source": [
        "# 7442: 直轄市、縣市界線\n",
        "!rm -f mapshape/*; rmdir mapshape 2> /dev/null\n",
        "#!wget --no-check-certificate 'http://data.moi.gov.tw/MoiOD/System/DownloadFile.aspx?DATA=72874C55-884D-4CEA-B7D6-F60B0BE85AB0' -O temp.zip 2> /dev/null\n",
        "!wget --no-check-certificate 'https://data.moi.gov.tw/MoiOD/System/DownloadFile.aspx?DATA=72874C55-884D-4CEA-B7D6-F60B0BE85AB0' -O temp.zip 2> /dev/null\n",
        "!unzip temp.zip -d mapshape; rm temp.zip"
      ],
      "execution_count": null,
      "outputs": []
    },
    {
      "cell_type": "markdown",
      "metadata": {
        "id": "kACRjuMRsVQL"
      },
      "source": [
        "圖17-12"
      ]
    },
    {
      "cell_type": "code",
      "metadata": {
        "id": "wMi8p9Qnsa7D"
      },
      "source": [
        "import matplotlib.pyplot as plt\n",
        "from mpl_toolkits.basemap import Basemap\n",
        "import warnings\n",
        "warnings.filterwarnings(\"ignore\")\n",
        "import numpy as np\n",
        "# 1. 設定basemap\n",
        "lllon,lllat,urlon,urlat=119.0,21.8,122.05,25.4\n",
        "map = Basemap(projection='cyl', resolution='h', \n",
        "   llcrnrlon=lllon,llcrnrlat=lllat,urcrnrlon=urlon, urcrnrlat=urlat)\n",
        "# 2. 畫海岸線圖     \n",
        "map.drawcoastlines(linewidth=0.5)\n",
        "map.drawmapboundary(fill_color='cyan')\n",
        "# 3. 畫緯度線21.5(<21.8)和26(>25.4) #畫經度線119(<120)和123(>112.05)\n",
        "map.drawparallels(np.arange(21.5,26),labels=[1,0,0,0] ,fontsize=10)\n",
        "map.drawmeridians(np.arange(119,123),labels=[0,0,0,1], fontsize=10)\n",
        "# 4. 讀入shape file/依需要修改MOI名稱\n",
        "#SHP, MOI = \"mapshape/COUNTY_MOI_1070516\", \"COUNTY_MOI_1070516\"\n",
        "SHP, MOI = \"mapshape/COUNTY_MOI_1090820\", \"COUNTY_MOI_1090820\"\n",
        "map.readshapefile(SHP, MOI, linewidth=0.25 , drawbounds=True)\n",
        "# 5. 儲存顯示圖片\n",
        "plt.show()"
      ],
      "execution_count": null,
      "outputs": []
    },
    {
      "cell_type": "markdown",
      "metadata": {
        "id": "Lfw4lxwO5Lhi"
      },
      "source": [
        "圖17-14"
      ]
    },
    {
      "cell_type": "code",
      "metadata": {
        "id": "0vqiWIzi5P-j"
      },
      "source": [
        "import matplotlib.pyplot as plt\n",
        "from mpl_toolkits.basemap import Basemap\n",
        "import warnings\n",
        "warnings.filterwarnings(\"ignore\")\n",
        "import numpy as np\n",
        "from matplotlib.font_manager import FontProperties\n",
        "font = FontProperties(fname=r\"kaiu.ttf\", size=16)\n",
        "# 1. 設定basemap\n",
        "lllon,lllat,urlon,urlat=119.0,21.8,122.05,25.4\n",
        "map = Basemap(projection='cyl', resolution='h', \n",
        "   llcrnrlon=lllon,llcrnrlat=lllat,urcrnrlon=urlon, urcrnrlat=urlat)\n",
        "# 2. 畫海岸線圖     \n",
        "map.drawcoastlines(linewidth=0.5)\n",
        "map.drawmapboundary(fill_color='cyan')\n",
        "map.fillcontinents(color='yellow')\n",
        "# 3. 畫緯度線21.5(<21.8)和26(>25.4) #畫經度線119(<120)和123(>112.05)\n",
        "map.drawparallels(np.arange(21.5,26),labels=[1,0,0,0] ,fontsize=10)\n",
        "map.drawmeridians(np.arange(119,123),labels=[0,0,0,1], fontsize=10)\n",
        "# 4. 讀入shape file/依需要修改MOI名稱\n",
        "SHP, MOI = \"mapshape/COUNTY_MOI_1090820\", \"COUNTY_MOI_1090820\"\n",
        "map.readshapefile(SHP, MOI, linewidth=0.25 , drawbounds=True)\n",
        "# 5. Taipei 121.597366,25.105497; Kaohsiung 120.31333, 22.61626\n",
        "x,y,c_name=[121.521792,120.31333],[25.048650,22.61626],['台北','高雄']\n",
        "map.scatter(x,y, latlon=True, marker='*',color='red', zorder=10, s=150)\n",
        "for i in range(len(c_name)):\n",
        "  plt.text(x[i]+0.08, y[i], c_name[i],fontsize=14,fontproperties=font)\n",
        "# 6. 顯示圖片\n",
        "plt.show()"
      ],
      "execution_count": null,
      "outputs": []
    },
    {
      "cell_type": "markdown",
      "metadata": {
        "id": "sKxY__CB-Pff"
      },
      "source": [
        "上傳"
      ]
    },
    {
      "cell_type": "code",
      "metadata": {
        "colab": {
          "resources": {
            "http://localhost:8080/nbextensions/google.colab/files.js": {
              "data": "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",
              "ok": true,
              "headers": [
                [
                  "content-type",
                  "application/javascript"
                ]
              ],
              "status": 200,
              "status_text": ""
            }
          },
          "base_uri": "https://localhost:8080/",
          "height": 75
        },
        "id": "atNzkRoT-RBP",
        "outputId": "2d323b8c-2bde-4396-f1dd-78524faf7c7f"
      },
      "source": [
        "from google.colab import files\n",
        "uploaded = files.upload()"
      ],
      "execution_count": 48,
      "outputs": [
        {
          "output_type": "display_data",
          "data": {
            "text/html": [
              "\n",
              "     <input type=\"file\" id=\"files-7f554863-fc1e-4700-a148-80cf1d7b9384\" name=\"files[]\" multiple disabled\n",
              "        style=\"border:none\" />\n",
              "     <output id=\"result-7f554863-fc1e-4700-a148-80cf1d7b9384\">\n",
              "      Upload widget is only available when the cell has been executed in the\n",
              "      current browser session. Please rerun this cell to enable.\n",
              "      </output>\n",
              "      <script src=\"/nbextensions/google.colab/files.js\"></script> "
            ],
            "text/plain": [
              "<IPython.core.display.HTML object>"
            ]
          },
          "metadata": {
            "tags": []
          }
        },
        {
          "output_type": "stream",
          "text": [
            "Saving chap17d.csv to chap17d.csv\n"
          ],
          "name": "stdout"
        }
      ]
    },
    {
      "cell_type": "markdown",
      "metadata": {
        "id": "SVAHUq7r7RBm"
      },
      "source": [
        "p346上 (延續圖17-14, 畫圖17-17)"
      ]
    },
    {
      "cell_type": "code",
      "metadata": {
        "id": "CFdi48uv7UWH"
      },
      "source": [
        "import matplotlib.pyplot as plt\n",
        "from mpl_toolkits.basemap import Basemap\n",
        "import warnings\n",
        "warnings.filterwarnings(\"ignore\")\n",
        "import numpy as np\n",
        "from matplotlib.font_manager import FontProperties\n",
        "font = FontProperties(fname=r\"kaiu.ttf\", size=16)\n",
        "# 1. 設定basemap\n",
        "lllon,lllat,urlon,urlat=119.0,21.8,122.05,25.4\n",
        "map = Basemap(projection='cyl', resolution='h', \n",
        "   llcrnrlon=lllon,llcrnrlat=lllat,urcrnrlon=urlon, urcrnrlat=urlat)\n",
        "# 2. 畫海岸線圖     \n",
        "map.drawcoastlines(linewidth=0.5)\n",
        "map.drawmapboundary(fill_color='cyan')\n",
        "map.fillcontinents(color='yellow')\n",
        "# 3. 畫緯度線21.5(<21.8)和26(>25.4) #畫經度線119(<120)和123(>112.05)\n",
        "map.drawparallels(np.arange(21.5,26),labels=[1,0,0,0] ,fontsize=10)\n",
        "map.drawmeridians(np.arange(119,123),labels=[0,0,0,1], fontsize=10)\n",
        "# 4. 讀入shape file/依需要修改MOI名稱\n",
        "SHP, MOI = \"mapshape/COUNTY_MOI_1090820\", \"COUNTY_MOI_1090820\"\n",
        "map.readshapefile(SHP, MOI, linewidth=0.25 , drawbounds=True)\n",
        "# 5. Read from data\n",
        "import pandas as pd\n",
        "df = pd.read_csv(\"chap17a.csv\", encoding='utf-8') \n",
        "x,y,c_name, c_size=df.Longitude, df.Latitude,df.Name, df.Size\n",
        "map.scatter(x,y, latlon=True, marker='*',color='red', zorder=10, s=c_size)\n",
        "for i in range(len(c_name)):\n",
        "  plt.text(x[i]+0.08, y[i], c_name[i], fontsize=14, fontproperties=font)\n",
        "# 6. 顯示圖片\n",
        "plt.show()"
      ],
      "execution_count": null,
      "outputs": []
    },
    {
      "cell_type": "markdown",
      "metadata": {
        "id": "w0WiQd7p9zuc"
      },
      "source": [
        "p347上"
      ]
    },
    {
      "cell_type": "code",
      "metadata": {
        "id": "IZR9aK5c91pN"
      },
      "source": [
        "import matplotlib.pyplot as plt\n",
        "from mpl_toolkits.basemap import Basemap\n",
        "import warnings\n",
        "warnings.filterwarnings(\"ignore\")\n",
        "import numpy as np\n",
        "from matplotlib.font_manager import FontProperties\n",
        "font = FontProperties(fname=r\"kaiu.ttf\", size=16)\n",
        "import pandas as pd\n",
        "from matplotlib.patches import Polygon\n",
        "from matplotlib.collections import PatchCollection\n",
        "from statistics import mean"
      ],
      "execution_count": 11,
      "outputs": []
    },
    {
      "cell_type": "markdown",
      "metadata": {
        "id": "sz8RsDYo97CZ"
      },
      "source": [
        "p347下"
      ]
    },
    {
      "cell_type": "code",
      "metadata": {
        "id": "LYWZATZI980D"
      },
      "source": [
        "def set_colorCity(patches, citylst, data, c_map='Purples'):\n",
        "  #### Taipei and Chiayi are inside other cities! ####\n",
        "  uc, up = [], []\n",
        "  for i in range(len(citylst)):\n",
        "    if citylst[i] == 'Taipei City' or citylst[i] == 'Chiayi City':\n",
        "      uc.append(citylst[i])\n",
        "      up.append(patches[i])\n",
        "  clst = [x for x in citylst if x not in uc]\n",
        "  plst = [x for x in patches if x not in up]\n",
        "  clst.extend(uc)\n",
        "  plst.extend(up)\n",
        "  patches, citylst = plst, clst\n",
        "  ####################################################\n",
        "  clr = np.zeros((len(citylst)))\n",
        "  for i in range(len(citylst)):\n",
        "    clr[i]=data[citylst[i]] \n",
        "  return PatchCollection(patches, cmap=c_map, linewidths=0.2, zorder=2), clr"
      ],
      "execution_count": 12,
      "outputs": []
    },
    {
      "cell_type": "markdown",
      "metadata": {
        "id": "dbeNW9I0CxPN"
      },
      "source": [
        "圖17-19"
      ]
    },
    {
      "cell_type": "code",
      "metadata": {
        "id": "1TThYUEiCy2h"
      },
      "source": [
        "import matplotlib.pyplot as plt\n",
        "from mpl_toolkits.basemap import Basemap\n",
        "import numpy as np\n",
        "# 1. 設定basemap\n",
        "map = Basemap(projection='cyl', resolution='h',\n",
        "   llcrnrlon=119.0,llcrnrlat=21.8,urcrnrlon=122.05, urcrnrlat=25.4)\n",
        "# 2. 畫海岸線圖     \n",
        "map.drawcoastlines(linewidth=1)\n",
        "map.drawmapboundary(fill_color='cyan')\n",
        "# 3. 讀入shape file\n",
        "#SHP, MOI = \"mapshape/TOWN_MOI_1090820\", \"TOWN_MOI_1090820\"\n",
        "#map.readshapefile(SHP, MOI, linewidth=0.25 , drawbounds=True)\n",
        "#for i in map.TOWN_MOI_1090820_info:\n",
        "#  print(i)\n",
        "#3. 讀入shape file\n",
        "SHP, MOI = \"mapshape/COUNTY_MOI_1090820\", \"COUNTY_MOI_1090820\"\n",
        "map.readshapefile(SHP, MOI, linewidth=0.25 , drawbounds=True)\n",
        "for i in map.COUNTY_MOI_1090820_info:\n",
        "  print(i)\n",
        "# 4. 儲存顯示圖片\n",
        "plt.show()"
      ],
      "execution_count": null,
      "outputs": []
    },
    {
      "cell_type": "markdown",
      "metadata": {
        "id": "Q0QS_JH6FC9m"
      },
      "source": [
        "圖19-20"
      ]
    },
    {
      "cell_type": "code",
      "metadata": {
        "id": "ANKCeclWFEW5"
      },
      "source": [
        "fig     = plt.figure()\n",
        "ax      = fig.add_subplot(111)\n",
        "# 1. 設定basemap\n",
        "lllon,lllat,urlon,urlat=119.0,21.8,122.05,25.4\n",
        "map = Basemap(projection='cyl', resolution='h',\n",
        "   llcrnrlon=lllon,llcrnrlat=lllat,urcrnrlon=urlon, urcrnrlat=urlat)\n",
        "# 2. 畫海岸線圖 \n",
        "map.drawcoastlines(linewidth=0.5)\n",
        "map.drawmapboundary(fill_color='cyan')\n",
        "# 3. 畫緯度線21.5(<21.8)和26(>25.4) #畫經度線119(<120)和123(>112.05)\n",
        "map.drawparallels(np.arange(21.5,26),labels=[1,0,0,0] ,fontsize=10)\n",
        "map.drawmeridians(np.arange(119,123),labels=[0,0,0,1], fontsize=10)\n",
        "# 4. 讀入shape file\n",
        "SHP, MOI = \"mapshape/COUNTY_MOI_1090820\", \"COUNTY_MOI_1090820\"\n",
        "map.readshapefile(SHP, MOI, linewidth=0.25 , drawbounds=True)\n",
        "# 5. 縣市資料\"\n",
        "citylst, patches = [], []\n",
        "df = pd.read_csv(\"chap17b.csv\")         # data file with population\n",
        "data=dict(zip(df.Name, df.Population))  # associate name/value\n",
        "for info, shape in zip(map.COUNTY_MOI_1090820_info, map.COUNTY_MOI_1090820):\n",
        "    citylst.append(info['COUNTYENG'])\n",
        "    patches.append(Polygon(np.array(shape), True))\n",
        "p, colors = set_colorCity(patches, citylst, data, 'Purples') \n",
        "p.set_array(colors)\n",
        "ax.add_collection(p)\n",
        "plt.show() "
      ],
      "execution_count": null,
      "outputs": []
    },
    {
      "cell_type": "markdown",
      "metadata": {
        "id": "GWtiM5vwCZY0"
      },
      "source": [
        "圖19-22"
      ]
    },
    {
      "cell_type": "code",
      "metadata": {
        "id": "XjserYqyCcAP"
      },
      "source": [
        "fig     = plt.figure()\n",
        "ax      = fig.add_subplot(111)\n",
        "# 1. 設定basemap\n",
        "lllon,lllat,urlon,urlat=119.0,21.8,122.05,25.4\n",
        "map = Basemap(projection='cyl', resolution='h', \n",
        "   llcrnrlon=lllon,llcrnrlat=lllat,urcrnrlon=urlon, urcrnrlat=urlat)\n",
        "# 2. 畫海岸線圖 \n",
        "map.drawcoastlines(linewidth=0.5)\n",
        "map.drawmapboundary(fill_color='cyan')\n",
        "# 3. 畫緯度線21.5(<21.8)和26(>25.4)  畫經度線119(<120)和123(>112.05)\n",
        "map.drawparallels(np.arange(21.5,26),labels=[1,0,0,0] ,fontsize=10)\n",
        "map.drawmeridians(np.arange(119,123),labels=[0,0,0,1], fontsize=10)\n",
        "# 4. 讀入shape file\n",
        "SHP, MOI = \"mapshape/COUNTY_MOI_1090820\", \"COUNTY_MOI_1090820\"\n",
        "map.readshapefile(SHP, MOI, linewidth=0.25 , drawbounds=True)\n",
        "# 5. 縣市資料\"\n",
        "citylst, patches = [], []\n",
        "df = pd.read_csv(\"chap17c.csv\")         # data file with population\n",
        "data=dict(zip(df.Name, df.Population/df.Area)) # associate name/(density)\n",
        "for info, shape in zip(map.COUNTY_MOI_1090820_info, map.COUNTY_MOI_1090820):\n",
        "    citylst.append(info['COUNTYENG'])\n",
        "    patches.append(Polygon(np.array(shape), True))\n",
        "p, colors = set_colorCity(patches, citylst, data, 'OrRd') \n",
        "p.set_array(colors)\n",
        "ax.add_collection(p)\n",
        "plt.show()"
      ],
      "execution_count": null,
      "outputs": []
    },
    {
      "cell_type": "markdown",
      "metadata": {
        "id": "8MYn5N0CKn09"
      },
      "source": [
        "圖17-24"
      ]
    },
    {
      "cell_type": "code",
      "metadata": {
        "id": "jwfMrsBhKqT3"
      },
      "source": [
        "# 7441: 鄉鎮市區界線\n",
        "!rm -f mapshape/*; rmdir mapshape 2> /dev/null\n",
        "!wget --no-check-certificate 'https://data.moi.gov.tw/MoiOD/System/DownloadFile.aspx?DATA=CD02C824-45C5-48C8-B631-98B205A2E35A' -O temp.zip 2> /dev/null\n",
        "!unzip temp.zip -d mapshape; rm temp.zip"
      ],
      "execution_count": null,
      "outputs": []
    },
    {
      "cell_type": "markdown",
      "metadata": {
        "id": "H33T7SbHLg2E"
      },
      "source": [
        "圖17-25"
      ]
    },
    {
      "cell_type": "code",
      "metadata": {
        "id": "lVBpUM30NC6O"
      },
      "source": [
        "# 1. 設定basemap\n",
        "lllon,lllat,urlon,urlat=119.0,21.8,122.05,25.4\n",
        "map = Basemap(projection='cyl', resolution='h', \n",
        "   llcrnrlon=lllon,llcrnrlat=lllat,urcrnrlon=urlon, urcrnrlat=urlat)\n",
        "# 2. 畫海岸線圖 \n",
        "map.drawmapboundary(fill_color='cyan')\n",
        "# 3. 經緯度 -- label [West, East, North, South]\n",
        "map.drawparallels(np.arange(lllat,urlat),labels=[1,0,0,0] ,fontsize=10)\n",
        "map.drawmeridians(np.arange(lllon,urlon),labels=[0,0,1,0], fontsize=10)\n",
        "# 4. 讀入shape file\n",
        "SHP, MOI = \"mapshape/TOWN_MOI_1100415\", \"TOWN_MOI_1100415\"\n",
        "map.readshapefile(SHP, MOI, linewidth=0.1 , drawbounds=True)\n",
        "# 5. 儲存顯示圖片\n",
        "plt.show() "
      ],
      "execution_count": null,
      "outputs": []
    },
    {
      "cell_type": "markdown",
      "metadata": {
        "id": "CgjYYgXwLgZM"
      },
      "source": [
        "圖17-27"
      ]
    },
    {
      "cell_type": "code",
      "metadata": {
        "id": "e_o7MuR6NuTJ"
      },
      "source": [
        "# 1. 設定basemap\n",
        "lllon,lllat,urlon,urlat=121.43,24.95,121.68,25.23\n",
        "map = Basemap(projection='cyl', resolution='h',  \n",
        "   llcrnrlon=lllon,llcrnrlat=lllat,urcrnrlon=urlon, urcrnrlat=urlat)\n",
        "# 2. 畫海岸線圖 \n",
        "map.drawcoastlines(linewidth=0.5)\n",
        "map.drawmapboundary(fill_color='cyan')\n",
        "map.fillcontinents(color='yellow')\n",
        "# 3. 經緯度 -- label [West, East, North, South]\n",
        "map.drawparallels(np.arange(lllat,urlat),labels=[1,0,0,0] ,fontsize=10)\n",
        "map.drawmeridians(np.arange(lllon,urlon),labels=[0,0,1,0], fontsize=10)\n",
        "# 4. 讀入shape file\n",
        "SHP, MOI = \"mapshape/TOWN_MOI_1100415\", \"TOWN_MOI_1100415\"\n",
        "map.readshapefile(SHP, MOI, linewidth=0.1 , drawbounds=True)\n",
        "# 5. 儲存顯示圖片\n",
        "plt.show()"
      ],
      "execution_count": null,
      "outputs": []
    },
    {
      "cell_type": "markdown",
      "metadata": {
        "id": "Amk4SiovOpI2"
      },
      "source": [
        "p355"
      ]
    },
    {
      "cell_type": "code",
      "metadata": {
        "id": "6RxXLcTQOsB2"
      },
      "source": [
        "def set_colorTown(patches, citylst, data, c_map='Purples'):\n",
        "  allTown, allValues = data.keys(), data.values()\n",
        "  basedValue = min(allValues)-mean(allValues)/4\n",
        "  clr = np.zeros((len(citylst)))\n",
        "  for i in range(len(citylst)):\n",
        "    # clr[i]=data[citylst[i]] ## 顏色會太深, 用下面的方式正規化\n",
        "    clr[i]=data[citylst[i]] if (citylst[i] in allTown) else basedValue\n",
        "  return PatchCollection(patches, cmap=c_map, linewidths=0.2, zorder=2), clr"
      ],
      "execution_count": 46,
      "outputs": []
    },
    {
      "cell_type": "markdown",
      "metadata": {
        "id": "XJLAjDmtO3gw"
      },
      "source": [
        "圖17-30"
      ]
    },
    {
      "cell_type": "code",
      "metadata": {
        "id": "cqfBsrkLO5IJ"
      },
      "source": [
        "fig     = plt.figure()\n",
        "ax      = fig.add_subplot(111)\n",
        "# 1. 設定basemap\n",
        "lllon,lllat,urlon,urlat=121.43,24.95,121.68,25.23\n",
        "map = Basemap(projection='cyl', resolution='h',  \n",
        "   llcrnrlon=lllon,llcrnrlat=lllat,urcrnrlon=urlon, urcrnrlat=urlat)\n",
        "# 2. 畫海岸線圖 \n",
        "map.drawmapboundary(fill_color='cyan')\n",
        "# 3. 經緯度 -- label [West, East, North, South]\n",
        "map.drawparallels(np.arange(lllat,urlat),labels=[1,0,0,0] ,fontsize=10)\n",
        "map.drawmeridians(np.arange(lllon,urlon),labels=[0,0,1,0], fontsize=10)\n",
        "# 4. 讀入shape file\n",
        "SHP, MOI = \"mapshape/TOWN_MOI_1100415\", \"TOWN_MOI_1100415\"\n",
        "map.readshapefile(SHP, MOI, linewidth=0.1 , drawbounds=True)\n",
        "# 5. 縣市資料--小心有很多 \"中正區\n",
        "citylst, patches = [], []\n",
        "df = pd.read_csv(\"chap17d.csv\")   \n",
        "data=dict(zip('臺北市'+':'+df.Name, df.Population))\n",
        "for info, shape in zip(map.TOWN_MOI_1100415_info, map.TOWN_MOI_1100415):\n",
        "    citylst.append(info['COUNTYNAME']+':'+info['TOWNENG'])\n",
        "    patches.append(Polygon(np.array(shape), True))\n",
        "p, colors = set_colorTown(patches, citylst, data, 'BuGn')\n",
        "p.set_array(colors)\n",
        "ax.add_collection(p)\n",
        "# 6. 儲存顯示圖片\n",
        "plt.show()"
      ],
      "execution_count": null,
      "outputs": []
    }
  ]
}